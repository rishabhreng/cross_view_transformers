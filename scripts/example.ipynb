{
 "cells": [
  {
   "cell_type": "markdown",
   "metadata": {},
   "source": [
    "## **Demo Notebook**\n",
    "\n",
    "This quick notebook will show how to\n",
    "\n",
    "* load config\n",
    "* create the dataset\n",
    "* make a model\n",
    "* load pretrained weights\n",
    "\n",
    "This notebook should be run directly from the `scripts/` directory."
   ]
  },
  {
   "cell_type": "markdown",
   "metadata": {},
   "source": [
    "### **Config**\n",
    "\n",
    "Make sure to change the following paths\n",
    "* `DATASET_DIR`\n",
    "* `LABELS_DIR`"
   ]
  },
  {
   "cell_type": "code",
   "execution_count": 1,
   "metadata": {},
   "outputs": [
    {
     "name": "stdout",
     "output_type": "stream",
     "text": [
      "['experiment', 'loader', 'optimizer', 'scheduler', 'trainer', 'model', 'data', 'visualization', 'loss', 'metrics']\n"
     ]
    }
   ],
   "source": [
    "from hydra import core, initialize, compose\n",
    "from omegaconf import OmegaConf\n",
    "\n",
    "\n",
    "# CHANGE ME\n",
    "DATASET_DIR = '/home/vrb230004/media/datasets/nuscenes'\n",
    "LABELS_DIR = '/home/vrb230004/media/datasets/cvt_labels_nuscenes'\n",
    "\n",
    "\n",
    "core.global_hydra.GlobalHydra.instance().clear()        # required for Hydra in notebooks\n",
    "\n",
    "initialize(config_path='../config')\n",
    "\n",
    "# Add additional command line overrides\n",
    "cfg = compose(\n",
    "    config_name='config',\n",
    "    overrides=[\n",
    "        'experiment.save_dir=../logs/',                 # required for Hydra in notebooks\n",
    "        '+experiment=cvt_nuscenes_vehicle',\n",
    "        f'data.dataset_dir={DATASET_DIR}',\n",
    "        f'data.labels_dir={LABELS_DIR}',\n",
    "        'data.version=v1.0-trainval',\n",
    "        'loader.batch_size=1',\n",
    "    ]\n",
    ")\n",
    "\n",
    "# resolve config references\n",
    "OmegaConf.resolve(cfg)\n",
    "\n",
    "print(list(cfg.keys()))"
   ]
  },
  {
   "cell_type": "markdown",
   "metadata": {},
   "source": [
    "### **Dataset Setup**"
   ]
  },
  {
   "cell_type": "code",
   "execution_count": 2,
   "metadata": {},
   "outputs": [
    {
     "name": "stdout",
     "output_type": "stream",
     "text": [
      "Loaded pretrained weights for efficientnet-b4\n",
      "49\n"
     ]
    }
   ],
   "source": [
    "import torch\n",
    "import numpy as np\n",
    "\n",
    "from cross_view_transformer.common import setup_experiment, load_backbone\n",
    "\n",
    "\n",
    "# Additional splits can be added to cross_view_transformer/data/splits/nuscenes/\n",
    "SPLIT = 'val_qualitative_000'\n",
    "SUBSAMPLE = 5\n",
    "\n",
    "\n",
    "model, data, viz = setup_experiment(cfg)\n",
    "\n",
    "dataset = data.get_split(SPLIT, loader=False)\n",
    "dataset = torch.utils.data.ConcatDataset(dataset)\n",
    "dataset = torch.utils.data.Subset(dataset, range(0, len(dataset), SUBSAMPLE))\n",
    "\n",
    "loader = torch.utils.data.DataLoader(dataset, batch_size=1, shuffle=False, num_workers=2)\n",
    "\n",
    "print(len(dataset))"
   ]
  },
  {
   "cell_type": "markdown",
   "metadata": {},
   "source": [
    "### **Network Setup**"
   ]
  },
  {
   "cell_type": "code",
   "execution_count": 3,
   "metadata": {},
   "outputs": [
    {
     "name": "stdout",
     "output_type": "stream",
     "text": [
      "--2024-06-10 01:48:07--  https://www.cs.utexas.edu/~bzhou/cvt/cvt_nuscenes_vehicles_50k.ckpt\n",
      "Loaded CA certificate '/etc/ssl/certs/ca-certificates.crt'\n",
      "Resolving www.cs.utexas.edu (www.cs.utexas.edu)... 128.83.120.48\n",
      "Connecting to www.cs.utexas.edu (www.cs.utexas.edu)|128.83.120.48|:443... connected.\n",
      "HTTP request sent, awaiting response... 200 OK\n",
      "Length: 13407137 (13M)\n",
      "Saving to: ‘../logs/cvt_nuscenes_vehicles_50k.ckpt’\n",
      "\n",
      "../logs/cvt_nuscene 100%[===================>]  12.79M  76.7MB/s    in 0.2s    \n",
      "\n",
      "2024-06-10 01:48:07 (76.7 MB/s) - ‘../logs/cvt_nuscenes_vehicles_50k.ckpt’ saved [13407137/13407137]\n",
      "\n",
      "Loaded pretrained weights for efficientnet-b4\n"
     ]
    }
   ],
   "source": [
    "from pathlib import Path\n",
    "\n",
    "\n",
    "# Download a pretrained model (13 Mb)\n",
    "MODEL_URL = 'https://www.cs.utexas.edu/~bzhou/cvt/cvt_nuscenes_vehicles_50k.ckpt'\n",
    "CHECKPOINT_PATH = '../logs/cvt_nuscenes_vehicles_50k.ckpt'\n",
    "\n",
    "!wget $MODEL_URL -O $CHECKPOINT_PATH\n",
    "\n",
    "\n",
    "if Path(CHECKPOINT_PATH).exists():\n",
    "    network = load_backbone(CHECKPOINT_PATH)\n",
    "else:\n",
    "    network = model.backbone\n",
    "\n",
    "    print(f'{CHECKPOINT_PATH} not found. Using randomly initialized weights.')"
   ]
  },
  {
   "cell_type": "markdown",
   "metadata": {},
   "source": [
    "### **Run the Model**\n",
    "\n",
    "This cell will save the model predictions and render them as a gif.\n",
    "\n",
    "Note: colors will be ugly since gif only supports 256 colors total"
   ]
  },
  {
   "cell_type": "code",
   "execution_count": 4,
   "metadata": {},
   "outputs": [
    {
     "name": "stdout",
     "output_type": "stream",
     "text": [
      "Using 4 GPUs\n"
     ]
    },
    {
     "data": {
      "application/vnd.jupyter.widget-view+json": {
       "model_id": "a5e29d1858784f679f7ca99f2c76ccad",
       "version_major": 2,
       "version_minor": 0
      },
      "text/plain": [
       "HTML(value='\\n<div align=\"center\">\\n<img src=\"./predictions.gif?modified=1717984094.6870282\" width=\"80%\">\\n</d…"
      ]
     },
     "metadata": {},
     "output_type": "display_data"
    }
   ],
   "source": [
    "import torch\n",
    "import time\n",
    "import imageio\n",
    "import ipywidgets as widgets\n",
    "\n",
    "\n",
    "GIF_PATH = './predictions.gif'\n",
    "\n",
    "\n",
    "device = torch.device('cuda' if torch.cuda.is_available() else 'cpu')\n",
    "\n",
    "if torch.cuda.device_count() > 1:\n",
    "    print(f\"Using {torch.cuda.device_count()} GPUs\")\n",
    "    network = torch.nn.DataParallel(network)\n",
    "\n",
    "network.to(device)\n",
    "network.eval()\n",
    "\n",
    "images = list()\n",
    "\n",
    "with torch.inference_mode():\n",
    "    for batch in loader:\n",
    "        batch = {k: v.to(device) if isinstance(v, torch.Tensor) else v for k, v in batch.items()}\n",
    "        pred = network(batch)\n",
    "\n",
    "        visualization = np.vstack(viz(batch=batch, pred=pred))\n",
    "\n",
    "        images.append(visualization)\n",
    "\n",
    "\n",
    "# Save a gif\n",
    "duration = [1 for _ in images[:-1]] + [5 for _ in images[-1:]]\n",
    "imageio.mimsave(GIF_PATH, images, duration=duration)\n",
    "\n",
    "html = f'''\n",
    "<div align=\"center\">\n",
    "<img src=\"{GIF_PATH}?modified={time.time()}\" width=\"80%\">\n",
    "</div>\n",
    "'''\n",
    "\n",
    "display(widgets.HTML(html))"
   ]
  }
 ],
 "metadata": {
  "interpreter": {
   "hash": "b5f5dfcf6d7848e0c3dac37df27b69d0d5f79a0c0f03f8729db3afb13fab9666"
  },
  "kernelspec": {
   "display_name": "Python 3.8.12 ('bev_transformer_release')",
   "language": "python",
   "name": "python3"
  },
  "language_info": {
   "codemirror_mode": {
    "name": "ipython",
    "version": 3
   },
   "file_extension": ".py",
   "mimetype": "text/x-python",
   "name": "python",
   "nbconvert_exporter": "python",
   "pygments_lexer": "ipython3",
   "version": "3.8.19"
  },
  "orig_nbformat": 4
 },
 "nbformat": 4,
 "nbformat_minor": 2
}
